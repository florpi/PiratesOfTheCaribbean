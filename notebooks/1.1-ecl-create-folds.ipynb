{
 "cells": [
  {
   "cell_type": "code",
   "execution_count": 1,
   "metadata": {},
   "outputs": [],
   "source": [
    "import logging\n",
    "logging.getLogger().setLevel(logging.INFO)\n",
    "\n",
    "from glob import glob\n",
    "import numpy as np\n",
    "import pandas as pd\n",
    "import geopandas as gpd\n",
    "from sklearn.model_selection import train_test_split "
   ]
  },
  {
   "cell_type": "code",
   "execution_count": 2,
   "metadata": {},
   "outputs": [],
   "source": [
    "RANDOM_STATE = 10\n",
    "VALIDATE_SIZE = 0.05"
   ]
  },
  {
   "cell_type": "code",
   "execution_count": 3,
   "metadata": {},
   "outputs": [],
   "source": [
    "DATA_DIR = \"../data/raw/\"\n",
    "zone_to_crs = {'gros_islet': '+init=epsg:32620',\n",
    "               'castries': '+init=epsg:32620',\n",
    "               'dennery': '+init=epsg:32620',\n",
    "               'mixco_3': '+init=epsg:32616',\n",
    "               'mixco_1_and_ebenezer': '+init=epsg:32616',\n",
    "               'borde_rural': '+init=epsg:32618',\n",
    "               'borde_soacha': '+init=epsg:32618'}\n",
    "\n",
    "geojsons = glob(DATA_DIR + \"**/**/*.geojson\", recursive=True)"
   ]
  },
  {
   "cell_type": "code",
   "execution_count": 4,
   "metadata": {},
   "outputs": [
    {
     "name": "stderr",
     "output_type": "stream",
     "text": [
      "INFO:root:trainset: gros_islet, castries, dennery, mixco_3, mixco_1_and_ebenezer, borde_rural, borde_soacha\n",
      "INFO:root:testset: dennery, mixco_3, mixco_1_and_ebenezer, borde_rural, borde_soacha\n"
     ]
    }
   ],
   "source": [
    "trainset = {}\n",
    "testset = {}\n",
    "for geojson in geojsons:\n",
    "    df = gpd.read_file(geojson)    \n",
    "    df[\"path\"] = geojson\n",
    "    df[\"area\"] = df[\"geometry\"].area\n",
    "    place = geojson.split(\"/\")[-3]    \n",
    "    zone = geojson.split(\"/\")[-2]\n",
    "    df[\"zone\"] = zone\n",
    "    df[\"place\"] = place\n",
    "    #df = df.to_crs(zone_to_crs[zone])\n",
    "    if \"train\" in geojson:\n",
    "        trainset[zone] = df\n",
    "    else:\n",
    "        testset[zone] = df\n",
    "logging.info(f\"trainset: {', '.join(list(trainset.keys()))}\")        \n",
    "logging.info(f\"testset: {', '.join(list(testset.keys()))}\") "
   ]
  },
  {
   "cell_type": "code",
   "execution_count": 5,
   "metadata": {},
   "outputs": [],
   "source": [
    "df = pd.concat(trainset.values())\n",
    "df = df[df[\"verified\"]].copy()\n",
    "df[\"stratify\"] = df[\"place\"] + '-' + df[\"roof_material\"]"
   ]
  },
  {
   "cell_type": "code",
   "execution_count": 6,
   "metadata": {},
   "outputs": [
    {
     "data": {
      "text/html": [
       "<div>\n",
       "<style scoped>\n",
       "    .dataframe tbody tr th:only-of-type {\n",
       "        vertical-align: middle;\n",
       "    }\n",
       "\n",
       "    .dataframe tbody tr th {\n",
       "        vertical-align: top;\n",
       "    }\n",
       "\n",
       "    .dataframe thead th {\n",
       "        text-align: right;\n",
       "    }\n",
       "</style>\n",
       "<table border=\"1\" class=\"dataframe\">\n",
       "  <thead>\n",
       "    <tr style=\"text-align: right;\">\n",
       "      <th></th>\n",
       "      <th>id</th>\n",
       "      <th>roof_material</th>\n",
       "      <th>verified</th>\n",
       "      <th>geometry</th>\n",
       "      <th>path</th>\n",
       "      <th>area</th>\n",
       "      <th>zone</th>\n",
       "      <th>place</th>\n",
       "      <th>stratify</th>\n",
       "    </tr>\n",
       "  </thead>\n",
       "  <tbody>\n",
       "    <tr>\n",
       "      <th>0</th>\n",
       "      <td>7a3d643c</td>\n",
       "      <td>healthy_metal</td>\n",
       "      <td>True</td>\n",
       "      <td>POLYGON ((-60.89448 13.90834, -60.89439 13.908...</td>\n",
       "      <td>../data/raw/st_lucia/dennery/train-dennery.geo...</td>\n",
       "      <td>9.666502e-09</td>\n",
       "      <td>dennery</td>\n",
       "      <td>st_lucia</td>\n",
       "      <td>st_lucia-healthy_metal</td>\n",
       "    </tr>\n",
       "    <tr>\n",
       "      <th>1</th>\n",
       "      <td>7a26d820</td>\n",
       "      <td>healthy_metal</td>\n",
       "      <td>True</td>\n",
       "      <td>POLYGON ((-60.89363 13.90841, -60.89363 13.908...</td>\n",
       "      <td>../data/raw/st_lucia/dennery/train-dennery.geo...</td>\n",
       "      <td>3.379775e-09</td>\n",
       "      <td>dennery</td>\n",
       "      <td>st_lucia</td>\n",
       "      <td>st_lucia-healthy_metal</td>\n",
       "    </tr>\n",
       "    <tr>\n",
       "      <th>2</th>\n",
       "      <td>7a394078</td>\n",
       "      <td>healthy_metal</td>\n",
       "      <td>True</td>\n",
       "      <td>POLYGON ((-60.89311 13.90847, -60.89304 13.908...</td>\n",
       "      <td>../data/raw/st_lucia/dennery/train-dennery.geo...</td>\n",
       "      <td>2.924767e-08</td>\n",
       "      <td>dennery</td>\n",
       "      <td>st_lucia</td>\n",
       "      <td>st_lucia-healthy_metal</td>\n",
       "    </tr>\n",
       "    <tr>\n",
       "      <th>3</th>\n",
       "      <td>7a3f5742</td>\n",
       "      <td>healthy_metal</td>\n",
       "      <td>True</td>\n",
       "      <td>POLYGON ((-60.89240 13.90854, -60.89238 13.908...</td>\n",
       "      <td>../data/raw/st_lucia/dennery/train-dennery.geo...</td>\n",
       "      <td>7.166416e-09</td>\n",
       "      <td>dennery</td>\n",
       "      <td>st_lucia</td>\n",
       "      <td>st_lucia-healthy_metal</td>\n",
       "    </tr>\n",
       "    <tr>\n",
       "      <th>4</th>\n",
       "      <td>7a1cc592</td>\n",
       "      <td>healthy_metal</td>\n",
       "      <td>True</td>\n",
       "      <td>POLYGON ((-60.89263 13.90856, -60.89261 13.908...</td>\n",
       "      <td>../data/raw/st_lucia/dennery/train-dennery.geo...</td>\n",
       "      <td>9.548593e-09</td>\n",
       "      <td>dennery</td>\n",
       "      <td>st_lucia</td>\n",
       "      <td>st_lucia-healthy_metal</td>\n",
       "    </tr>\n",
       "  </tbody>\n",
       "</table>\n",
       "</div>"
      ],
      "text/plain": [
       "         id  roof_material  verified  \\\n",
       "0  7a3d643c  healthy_metal      True   \n",
       "1  7a26d820  healthy_metal      True   \n",
       "2  7a394078  healthy_metal      True   \n",
       "3  7a3f5742  healthy_metal      True   \n",
       "4  7a1cc592  healthy_metal      True   \n",
       "\n",
       "                                            geometry  \\\n",
       "0  POLYGON ((-60.89448 13.90834, -60.89439 13.908...   \n",
       "1  POLYGON ((-60.89363 13.90841, -60.89363 13.908...   \n",
       "2  POLYGON ((-60.89311 13.90847, -60.89304 13.908...   \n",
       "3  POLYGON ((-60.89240 13.90854, -60.89238 13.908...   \n",
       "4  POLYGON ((-60.89263 13.90856, -60.89261 13.908...   \n",
       "\n",
       "                                                path          area     zone  \\\n",
       "0  ../data/raw/st_lucia/dennery/train-dennery.geo...  9.666502e-09  dennery   \n",
       "1  ../data/raw/st_lucia/dennery/train-dennery.geo...  3.379775e-09  dennery   \n",
       "2  ../data/raw/st_lucia/dennery/train-dennery.geo...  2.924767e-08  dennery   \n",
       "3  ../data/raw/st_lucia/dennery/train-dennery.geo...  7.166416e-09  dennery   \n",
       "4  ../data/raw/st_lucia/dennery/train-dennery.geo...  9.548593e-09  dennery   \n",
       "\n",
       "      place                stratify  \n",
       "0  st_lucia  st_lucia-healthy_metal  \n",
       "1  st_lucia  st_lucia-healthy_metal  \n",
       "2  st_lucia  st_lucia-healthy_metal  \n",
       "3  st_lucia  st_lucia-healthy_metal  \n",
       "4  st_lucia  st_lucia-healthy_metal  "
      ]
     },
     "execution_count": 6,
     "metadata": {},
     "output_type": "execute_result"
    }
   ],
   "source": [
    "df.head()"
   ]
  },
  {
   "cell_type": "code",
   "execution_count": 7,
   "metadata": {},
   "outputs": [
    {
     "data": {
      "text/html": [
       "<div>\n",
       "<style scoped>\n",
       "    .dataframe tbody tr th:only-of-type {\n",
       "        vertical-align: middle;\n",
       "    }\n",
       "\n",
       "    .dataframe tbody tr th {\n",
       "        vertical-align: top;\n",
       "    }\n",
       "\n",
       "    .dataframe thead th {\n",
       "        text-align: right;\n",
       "    }\n",
       "</style>\n",
       "<table border=\"1\" class=\"dataframe\">\n",
       "  <thead>\n",
       "    <tr style=\"text-align: right;\">\n",
       "      <th></th>\n",
       "      <th>id</th>\n",
       "      <th>roof_material</th>\n",
       "      <th>verified</th>\n",
       "      <th>geometry</th>\n",
       "      <th>path</th>\n",
       "      <th>area</th>\n",
       "      <th>zone</th>\n",
       "      <th>place</th>\n",
       "      <th>stratify</th>\n",
       "    </tr>\n",
       "  </thead>\n",
       "  <tbody>\n",
       "    <tr>\n",
       "      <th>5990</th>\n",
       "      <td>7a39e44c</td>\n",
       "      <td>incomplete</td>\n",
       "      <td>True</td>\n",
       "      <td>POLYGON ((-74.16782 4.57210, -74.16774 4.57204...</td>\n",
       "      <td>../data/raw/colombia/borde_soacha/train-borde_...</td>\n",
       "      <td>5.953899e-09</td>\n",
       "      <td>borde_soacha</td>\n",
       "      <td>colombia</td>\n",
       "      <td>colombia-incomplete</td>\n",
       "    </tr>\n",
       "    <tr>\n",
       "      <th>5991</th>\n",
       "      <td>7a3d882c</td>\n",
       "      <td>incomplete</td>\n",
       "      <td>True</td>\n",
       "      <td>POLYGON ((-74.16773 4.57212, -74.16764 4.57218...</td>\n",
       "      <td>../data/raw/colombia/borde_soacha/train-borde_...</td>\n",
       "      <td>5.463670e-09</td>\n",
       "      <td>borde_soacha</td>\n",
       "      <td>colombia</td>\n",
       "      <td>colombia-incomplete</td>\n",
       "    </tr>\n",
       "    <tr>\n",
       "      <th>5992</th>\n",
       "      <td>7a3df9d8</td>\n",
       "      <td>irregular_metal</td>\n",
       "      <td>True</td>\n",
       "      <td>POLYGON ((-74.16791 4.57185, -74.16787 4.57190...</td>\n",
       "      <td>../data/raw/colombia/borde_soacha/train-borde_...</td>\n",
       "      <td>6.502043e-09</td>\n",
       "      <td>borde_soacha</td>\n",
       "      <td>colombia</td>\n",
       "      <td>colombia-irregular_metal</td>\n",
       "    </tr>\n",
       "    <tr>\n",
       "      <th>5993</th>\n",
       "      <td>7a2f5522</td>\n",
       "      <td>irregular_metal</td>\n",
       "      <td>True</td>\n",
       "      <td>POLYGON ((-74.16778 4.57216, -74.16769 4.57223...</td>\n",
       "      <td>../data/raw/colombia/borde_soacha/train-borde_...</td>\n",
       "      <td>6.058331e-09</td>\n",
       "      <td>borde_soacha</td>\n",
       "      <td>colombia</td>\n",
       "      <td>colombia-irregular_metal</td>\n",
       "    </tr>\n",
       "    <tr>\n",
       "      <th>5994</th>\n",
       "      <td>7a3e1b8e</td>\n",
       "      <td>irregular_metal</td>\n",
       "      <td>True</td>\n",
       "      <td>POLYGON ((-74.16752 4.57189, -74.16744 4.57196...</td>\n",
       "      <td>../data/raw/colombia/borde_soacha/train-borde_...</td>\n",
       "      <td>5.642552e-09</td>\n",
       "      <td>borde_soacha</td>\n",
       "      <td>colombia</td>\n",
       "      <td>colombia-irregular_metal</td>\n",
       "    </tr>\n",
       "  </tbody>\n",
       "</table>\n",
       "</div>"
      ],
      "text/plain": [
       "            id    roof_material  verified  \\\n",
       "5990  7a39e44c       incomplete      True   \n",
       "5991  7a3d882c       incomplete      True   \n",
       "5992  7a3df9d8  irregular_metal      True   \n",
       "5993  7a2f5522  irregular_metal      True   \n",
       "5994  7a3e1b8e  irregular_metal      True   \n",
       "\n",
       "                                               geometry  \\\n",
       "5990  POLYGON ((-74.16782 4.57210, -74.16774 4.57204...   \n",
       "5991  POLYGON ((-74.16773 4.57212, -74.16764 4.57218...   \n",
       "5992  POLYGON ((-74.16791 4.57185, -74.16787 4.57190...   \n",
       "5993  POLYGON ((-74.16778 4.57216, -74.16769 4.57223...   \n",
       "5994  POLYGON ((-74.16752 4.57189, -74.16744 4.57196...   \n",
       "\n",
       "                                                   path          area  \\\n",
       "5990  ../data/raw/colombia/borde_soacha/train-borde_...  5.953899e-09   \n",
       "5991  ../data/raw/colombia/borde_soacha/train-borde_...  5.463670e-09   \n",
       "5992  ../data/raw/colombia/borde_soacha/train-borde_...  6.502043e-09   \n",
       "5993  ../data/raw/colombia/borde_soacha/train-borde_...  6.058331e-09   \n",
       "5994  ../data/raw/colombia/borde_soacha/train-borde_...  5.642552e-09   \n",
       "\n",
       "              zone     place                  stratify  \n",
       "5990  borde_soacha  colombia       colombia-incomplete  \n",
       "5991  borde_soacha  colombia       colombia-incomplete  \n",
       "5992  borde_soacha  colombia  colombia-irregular_metal  \n",
       "5993  borde_soacha  colombia  colombia-irregular_metal  \n",
       "5994  borde_soacha  colombia  colombia-irregular_metal  "
      ]
     },
     "execution_count": 7,
     "metadata": {},
     "output_type": "execute_result"
    }
   ],
   "source": [
    "df.tail()"
   ]
  },
  {
   "cell_type": "code",
   "execution_count": 8,
   "metadata": {},
   "outputs": [],
   "source": [
    "train, validate = train_test_split(df, test_size=VALIDATE_SIZE, stratify=df['stratify'], random_state=RANDOM_STATE)"
   ]
  },
  {
   "cell_type": "code",
   "execution_count": 9,
   "metadata": {},
   "outputs": [
    {
     "data": {
      "text/html": [
       "<div>\n",
       "<style scoped>\n",
       "    .dataframe tbody tr th:only-of-type {\n",
       "        vertical-align: middle;\n",
       "    }\n",
       "\n",
       "    .dataframe tbody tr th {\n",
       "        vertical-align: top;\n",
       "    }\n",
       "\n",
       "    .dataframe thead th {\n",
       "        text-align: right;\n",
       "    }\n",
       "</style>\n",
       "<table border=\"1\" class=\"dataframe\">\n",
       "  <thead>\n",
       "    <tr style=\"text-align: right;\">\n",
       "      <th></th>\n",
       "      <th>id</th>\n",
       "      <th>roof_material</th>\n",
       "      <th>verified</th>\n",
       "      <th>geometry</th>\n",
       "      <th>path</th>\n",
       "      <th>area</th>\n",
       "      <th>zone</th>\n",
       "      <th>place</th>\n",
       "      <th>stratify</th>\n",
       "    </tr>\n",
       "  </thead>\n",
       "  <tbody>\n",
       "    <tr>\n",
       "      <th>412</th>\n",
       "      <td>7a201fee</td>\n",
       "      <td>irregular_metal</td>\n",
       "      <td>True</td>\n",
       "      <td>POLYGON ((-74.17097 4.57116, -74.17091 4.57114...</td>\n",
       "      <td>../data/raw/colombia/borde_soacha/train-borde_...</td>\n",
       "      <td>3.494962e-09</td>\n",
       "      <td>borde_soacha</td>\n",
       "      <td>colombia</td>\n",
       "      <td>colombia-irregular_metal</td>\n",
       "    </tr>\n",
       "    <tr>\n",
       "      <th>3750</th>\n",
       "      <td>7a22246a</td>\n",
       "      <td>healthy_metal</td>\n",
       "      <td>True</td>\n",
       "      <td>POLYGON ((-74.16979 4.56719, -74.16971 4.56724...</td>\n",
       "      <td>../data/raw/colombia/borde_soacha/train-borde_...</td>\n",
       "      <td>1.044841e-08</td>\n",
       "      <td>borde_soacha</td>\n",
       "      <td>colombia</td>\n",
       "      <td>colombia-healthy_metal</td>\n",
       "    </tr>\n",
       "    <tr>\n",
       "      <th>766</th>\n",
       "      <td>7a380640</td>\n",
       "      <td>irregular_metal</td>\n",
       "      <td>True</td>\n",
       "      <td>POLYGON ((-74.15841 4.55054, -74.15837 4.55055...</td>\n",
       "      <td>../data/raw/colombia/borde_rural/train-borde_r...</td>\n",
       "      <td>1.519204e-09</td>\n",
       "      <td>borde_rural</td>\n",
       "      <td>colombia</td>\n",
       "      <td>colombia-irregular_metal</td>\n",
       "    </tr>\n",
       "    <tr>\n",
       "      <th>211</th>\n",
       "      <td>7a21a882</td>\n",
       "      <td>healthy_metal</td>\n",
       "      <td>True</td>\n",
       "      <td>POLYGON ((-74.16981 4.57313, -74.16979 4.57325...</td>\n",
       "      <td>../data/raw/colombia/borde_soacha/train-borde_...</td>\n",
       "      <td>6.562080e-09</td>\n",
       "      <td>borde_soacha</td>\n",
       "      <td>colombia</td>\n",
       "      <td>colombia-healthy_metal</td>\n",
       "    </tr>\n",
       "    <tr>\n",
       "      <th>877</th>\n",
       "      <td>7a36a4d0</td>\n",
       "      <td>irregular_metal</td>\n",
       "      <td>True</td>\n",
       "      <td>POLYGON ((-74.16898 4.57093, -74.16895 4.57096...</td>\n",
       "      <td>../data/raw/colombia/borde_soacha/train-borde_...</td>\n",
       "      <td>2.826957e-09</td>\n",
       "      <td>borde_soacha</td>\n",
       "      <td>colombia</td>\n",
       "      <td>colombia-irregular_metal</td>\n",
       "    </tr>\n",
       "  </tbody>\n",
       "</table>\n",
       "</div>"
      ],
      "text/plain": [
       "            id    roof_material  verified  \\\n",
       "412   7a201fee  irregular_metal      True   \n",
       "3750  7a22246a    healthy_metal      True   \n",
       "766   7a380640  irregular_metal      True   \n",
       "211   7a21a882    healthy_metal      True   \n",
       "877   7a36a4d0  irregular_metal      True   \n",
       "\n",
       "                                               geometry  \\\n",
       "412   POLYGON ((-74.17097 4.57116, -74.17091 4.57114...   \n",
       "3750  POLYGON ((-74.16979 4.56719, -74.16971 4.56724...   \n",
       "766   POLYGON ((-74.15841 4.55054, -74.15837 4.55055...   \n",
       "211   POLYGON ((-74.16981 4.57313, -74.16979 4.57325...   \n",
       "877   POLYGON ((-74.16898 4.57093, -74.16895 4.57096...   \n",
       "\n",
       "                                                   path          area  \\\n",
       "412   ../data/raw/colombia/borde_soacha/train-borde_...  3.494962e-09   \n",
       "3750  ../data/raw/colombia/borde_soacha/train-borde_...  1.044841e-08   \n",
       "766   ../data/raw/colombia/borde_rural/train-borde_r...  1.519204e-09   \n",
       "211   ../data/raw/colombia/borde_soacha/train-borde_...  6.562080e-09   \n",
       "877   ../data/raw/colombia/borde_soacha/train-borde_...  2.826957e-09   \n",
       "\n",
       "              zone     place                  stratify  \n",
       "412   borde_soacha  colombia  colombia-irregular_metal  \n",
       "3750  borde_soacha  colombia    colombia-healthy_metal  \n",
       "766    borde_rural  colombia  colombia-irregular_metal  \n",
       "211   borde_soacha  colombia    colombia-healthy_metal  \n",
       "877   borde_soacha  colombia  colombia-irregular_metal  "
      ]
     },
     "metadata": {},
     "output_type": "display_data"
    },
    {
     "data": {
      "text/plain": [
       "14126"
      ]
     },
     "execution_count": 9,
     "metadata": {},
     "output_type": "execute_result"
    }
   ],
   "source": [
    "display(train.head())\n",
    "len(train)"
   ]
  },
  {
   "cell_type": "code",
   "execution_count": 10,
   "metadata": {},
   "outputs": [
    {
     "data": {
      "text/html": [
       "<div>\n",
       "<style scoped>\n",
       "    .dataframe tbody tr th:only-of-type {\n",
       "        vertical-align: middle;\n",
       "    }\n",
       "\n",
       "    .dataframe tbody tr th {\n",
       "        vertical-align: top;\n",
       "    }\n",
       "\n",
       "    .dataframe thead th {\n",
       "        text-align: right;\n",
       "    }\n",
       "</style>\n",
       "<table border=\"1\" class=\"dataframe\">\n",
       "  <thead>\n",
       "    <tr style=\"text-align: right;\">\n",
       "      <th></th>\n",
       "      <th>id</th>\n",
       "      <th>roof_material</th>\n",
       "      <th>verified</th>\n",
       "      <th>geometry</th>\n",
       "      <th>path</th>\n",
       "      <th>area</th>\n",
       "      <th>zone</th>\n",
       "      <th>place</th>\n",
       "      <th>stratify</th>\n",
       "    </tr>\n",
       "  </thead>\n",
       "  <tbody>\n",
       "    <tr>\n",
       "      <th>3530</th>\n",
       "      <td>7a2f23ea</td>\n",
       "      <td>irregular_metal</td>\n",
       "      <td>True</td>\n",
       "      <td>POLYGON ((-74.16071 4.54610, -74.16068 4.54614...</td>\n",
       "      <td>../data/raw/colombia/borde_rural/train-borde_r...</td>\n",
       "      <td>1.304878e-09</td>\n",
       "      <td>borde_rural</td>\n",
       "      <td>colombia</td>\n",
       "      <td>colombia-irregular_metal</td>\n",
       "    </tr>\n",
       "    <tr>\n",
       "      <th>3738</th>\n",
       "      <td>7a3ad0dc</td>\n",
       "      <td>healthy_metal</td>\n",
       "      <td>True</td>\n",
       "      <td>POLYGON ((-74.16974 4.56796, -74.16968 4.56797...</td>\n",
       "      <td>../data/raw/colombia/borde_soacha/train-borde_...</td>\n",
       "      <td>7.720474e-09</td>\n",
       "      <td>borde_soacha</td>\n",
       "      <td>colombia</td>\n",
       "      <td>colombia-healthy_metal</td>\n",
       "    </tr>\n",
       "    <tr>\n",
       "      <th>2141</th>\n",
       "      <td>7a35bb2e</td>\n",
       "      <td>irregular_metal</td>\n",
       "      <td>True</td>\n",
       "      <td>POLYGON ((-74.17017 4.56986, -74.17016 4.56990...</td>\n",
       "      <td>../data/raw/colombia/borde_soacha/train-borde_...</td>\n",
       "      <td>2.093354e-08</td>\n",
       "      <td>borde_soacha</td>\n",
       "      <td>colombia</td>\n",
       "      <td>colombia-irregular_metal</td>\n",
       "    </tr>\n",
       "    <tr>\n",
       "      <th>3354</th>\n",
       "      <td>7a1d6434</td>\n",
       "      <td>concrete_cement</td>\n",
       "      <td>True</td>\n",
       "      <td>POLYGON ((-74.16974 4.56634, -74.16964 4.56637...</td>\n",
       "      <td>../data/raw/colombia/borde_soacha/train-borde_...</td>\n",
       "      <td>5.995396e-09</td>\n",
       "      <td>borde_soacha</td>\n",
       "      <td>colombia</td>\n",
       "      <td>colombia-concrete_cement</td>\n",
       "    </tr>\n",
       "    <tr>\n",
       "      <th>91</th>\n",
       "      <td>7a2c5aac</td>\n",
       "      <td>irregular_metal</td>\n",
       "      <td>True</td>\n",
       "      <td>POLYGON ((-90.57700 14.61226, -90.57698 14.612...</td>\n",
       "      <td>../data/raw/guatemala/mixco_3/train-mixco_3.ge...</td>\n",
       "      <td>3.636595e-09</td>\n",
       "      <td>mixco_3</td>\n",
       "      <td>guatemala</td>\n",
       "      <td>guatemala-irregular_metal</td>\n",
       "    </tr>\n",
       "  </tbody>\n",
       "</table>\n",
       "</div>"
      ],
      "text/plain": [
       "            id    roof_material  verified  \\\n",
       "3530  7a2f23ea  irregular_metal      True   \n",
       "3738  7a3ad0dc    healthy_metal      True   \n",
       "2141  7a35bb2e  irregular_metal      True   \n",
       "3354  7a1d6434  concrete_cement      True   \n",
       "91    7a2c5aac  irregular_metal      True   \n",
       "\n",
       "                                               geometry  \\\n",
       "3530  POLYGON ((-74.16071 4.54610, -74.16068 4.54614...   \n",
       "3738  POLYGON ((-74.16974 4.56796, -74.16968 4.56797...   \n",
       "2141  POLYGON ((-74.17017 4.56986, -74.17016 4.56990...   \n",
       "3354  POLYGON ((-74.16974 4.56634, -74.16964 4.56637...   \n",
       "91    POLYGON ((-90.57700 14.61226, -90.57698 14.612...   \n",
       "\n",
       "                                                   path          area  \\\n",
       "3530  ../data/raw/colombia/borde_rural/train-borde_r...  1.304878e-09   \n",
       "3738  ../data/raw/colombia/borde_soacha/train-borde_...  7.720474e-09   \n",
       "2141  ../data/raw/colombia/borde_soacha/train-borde_...  2.093354e-08   \n",
       "3354  ../data/raw/colombia/borde_soacha/train-borde_...  5.995396e-09   \n",
       "91    ../data/raw/guatemala/mixco_3/train-mixco_3.ge...  3.636595e-09   \n",
       "\n",
       "              zone      place                   stratify  \n",
       "3530   borde_rural   colombia   colombia-irregular_metal  \n",
       "3738  borde_soacha   colombia     colombia-healthy_metal  \n",
       "2141  borde_soacha   colombia   colombia-irregular_metal  \n",
       "3354  borde_soacha   colombia   colombia-concrete_cement  \n",
       "91         mixco_3  guatemala  guatemala-irregular_metal  "
      ]
     },
     "metadata": {},
     "output_type": "display_data"
    },
    {
     "data": {
      "text/plain": [
       "744"
      ]
     },
     "execution_count": 10,
     "metadata": {},
     "output_type": "execute_result"
    }
   ],
   "source": [
    "display(validate.head())\n",
    "len(validate)"
   ]
  },
  {
   "cell_type": "code",
   "execution_count": 11,
   "metadata": {},
   "outputs": [
    {
     "data": {
      "text/plain": [
       "healthy_metal      49.638964\n",
       "irregular_metal    35.247062\n",
       "concrete_cement     9.323234\n",
       "incomplete          4.495257\n",
       "other               1.295484\n",
       "Name: roof_material, dtype: float64"
      ]
     },
     "execution_count": 11,
     "metadata": {},
     "output_type": "execute_result"
    }
   ],
   "source": [
    "train[\"roof_material\"].value_counts(normalize=True)*100"
   ]
  },
  {
   "cell_type": "code",
   "execution_count": 12,
   "metadata": {},
   "outputs": [
    {
     "data": {
      "text/plain": [
       "healthy_metal      49.596774\n",
       "irregular_metal    35.215054\n",
       "concrete_cement     9.408602\n",
       "incomplete          4.435484\n",
       "other               1.344086\n",
       "Name: roof_material, dtype: float64"
      ]
     },
     "execution_count": 12,
     "metadata": {},
     "output_type": "execute_result"
    }
   ],
   "source": [
    "validate[\"roof_material\"].value_counts(normalize=True)*100"
   ]
  },
  {
   "cell_type": "markdown",
   "metadata": {},
   "source": [
    "# Save DataFrames"
   ]
  },
  {
   "cell_type": "code",
   "execution_count": 13,
   "metadata": {},
   "outputs": [],
   "source": [
    "OUTDIR = \"../data/processed/\"\n",
    "total = len(zone_to_crs) - 1\n",
    "for idx, (zone, crs) in enumerate(sorted(zone_to_crs.items())):\n",
    "    #train\n",
    "    subset = train[train[\"zone\"]==zone].drop(columns=[\"area\", \"stratify\"]).copy()\n",
    "    subset[\"crs\"] = crs\n",
    "    subset = subset.to_crs(crs)\n",
    "    if len(subset):\n",
    "        subset.to_pickle(OUTDIR + f\"train/trainset_{idx:01d}_of_{total:01d}_{zone}.pkl\")\n",
    "    #validate\n",
    "    subset = validate[validate[\"zone\"]==zone].drop(columns=[\"area\", \"stratify\"]).copy()\n",
    "    subset[\"crs\"] = crs\n",
    "    subset = subset.to_crs(crs)\n",
    "    if len(subset):\n",
    "        subset.to_pickle(OUTDIR + f\"validate/valset_{idx:01d}_of_{total:01d}_{zone}.pkl\")"
   ]
  },
  {
   "cell_type": "markdown",
   "metadata": {},
   "source": [
    "# Process testset"
   ]
  },
  {
   "cell_type": "code",
   "execution_count": 14,
   "metadata": {},
   "outputs": [],
   "source": [
    "test = pd.concat(testset.values())"
   ]
  },
  {
   "cell_type": "code",
   "execution_count": 15,
   "metadata": {},
   "outputs": [],
   "source": [
    "OUTDIR = \"../data/processed/\"\n",
    "total = len(zone_to_crs) - 1\n",
    "for idx, (zone, crs) in enumerate(sorted(zone_to_crs.items())):\n",
    "    #train\n",
    "    subset = test[test[\"zone\"]==zone].drop(columns=[\"area\"]).copy()\n",
    "    subset[\"crs\"] = crs\n",
    "    subset = subset.to_crs(crs)\n",
    "    if len(subset):\n",
    "        subset.to_pickle(OUTDIR + f\"test/testset_{idx:01d}_of_{total:01d}_{zone}.pkl\")"
   ]
  },
  {
   "cell_type": "code",
   "execution_count": null,
   "metadata": {},
   "outputs": [],
   "source": []
  },
  {
   "cell_type": "code",
   "execution_count": 2,
   "metadata": {},
   "outputs": [],
   "source": [
    "freqs = {\"healthy_metal\":49.638964,\n",
    "\"irregular_metal\":35.247062,\n",
    "\"concrete_cement\" :9.323234,\n",
    "\"incomplete\":4.495257,\n",
    "\"other\":1.295484}"
   ]
  },
  {
   "cell_type": "code",
   "execution_count": 5,
   "metadata": {},
   "outputs": [],
   "source": [
    "w = {k:100/v for k, v in freqs.items()}\n",
    "w_max = max(list(w.values()))\n",
    "w = {k:v/w_max for k, v in w.items()}"
   ]
  },
  {
   "cell_type": "code",
   "execution_count": 6,
   "metadata": {},
   "outputs": [
    {
     "data": {
      "text/plain": [
       "{'healthy_metal': 0.0260981272695377,\n",
       " 'irregular_metal': 0.03675438253548622,\n",
       " 'concrete_cement': 0.1389522133628739,\n",
       " 'incomplete': 0.2881890846285318,\n",
       " 'other': 1.0}"
      ]
     },
     "execution_count": 6,
     "metadata": {},
     "output_type": "execute_result"
    }
   ],
   "source": [
    "w"
   ]
  },
  {
   "cell_type": "code",
   "execution_count": null,
   "metadata": {},
   "outputs": [],
   "source": []
  }
 ],
 "metadata": {
  "kernelspec": {
   "display_name": "Python 3",
   "language": "python",
   "name": "python3"
  },
  "language_info": {
   "codemirror_mode": {
    "name": "ipython",
    "version": 3
   },
   "file_extension": ".py",
   "mimetype": "text/x-python",
   "name": "python",
   "nbconvert_exporter": "python",
   "pygments_lexer": "ipython3",
   "version": "3.6.9"
  }
 },
 "nbformat": 4,
 "nbformat_minor": 2
}
