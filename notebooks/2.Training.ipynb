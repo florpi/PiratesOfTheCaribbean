{
 "cells": [
  {
   "cell_type": "code",
   "execution_count": 5,
   "metadata": {},
   "outputs": [],
   "source": [
    "import numpy as np\n",
    "import matplotlib.pyplot as plt\n",
    "\n",
    "import keras\n",
    "from pirates.models import train_model"
   ]
  },
  {
   "cell_type": "code",
   "execution_count": 3,
   "metadata": {},
   "outputs": [],
   "source": [
    "IMAGE_SHAPE = (224, 224, 3)\n"
   ]
  },
  {
   "cell_type": "code",
   "execution_count": 6,
   "metadata": {},
   "outputs": [],
   "source": [
    "X_train = np.random.random(size=(100,)+IMAGE_SHAPE)\n",
    "y_train = keras.utils.to_categorical(np.random.randint(2, size=100, dtype=np.int32))\n",
    "X_test = np.random.random(size=(10,)+IMAGE_SHAPE)\n",
    "y_test = keras.utils.to_categorical(np.random.randint(2, size=10, dtype=np.int32))\n",
    "  \n"
   ]
  },
  {
   "cell_type": "code",
   "execution_count": 8,
   "metadata": {},
   "outputs": [
    {
     "name": "stdout",
     "output_type": "stream",
     "text": [
      "WARNING:tensorflow:Layer keras_layer is casting an input tensor from dtype float64 to the layer's dtype of float32, which is new behavior in TensorFlow 2.  The layer has dtype float32 because it's dtype defaults to floatx.\n",
      "\n",
      "If you intended to run this layer in float32, you can safely ignore this warning. If in doubt, this warning is likely only an issue if you are porting a TensorFlow 1.X model to TensorFlow 2.\n",
      "\n",
      "To change all layers to have dtype float64 by default, call `tf.keras.backend.set_floatx('float64')`. To change just this layer, pass dtype='float64' to the layer constructor. If you are the author of this layer, you can disable autocasting by passing autocast=False to the base Layer constructor.\n",
      "\n"
     ]
    },
    {
     "name": "stderr",
     "output_type": "stream",
     "text": [
      "WARNING:tensorflow:Layer keras_layer is casting an input tensor from dtype float64 to the layer's dtype of float32, which is new behavior in TensorFlow 2.  The layer has dtype float32 because it's dtype defaults to floatx.\n",
      "\n",
      "If you intended to run this layer in float32, you can safely ignore this warning. If in doubt, this warning is likely only an issue if you are porting a TensorFlow 1.X model to TensorFlow 2.\n",
      "\n",
      "To change all layers to have dtype float64 by default, call `tf.keras.backend.set_floatx('float64')`. To change just this layer, pass dtype='float64' to the layer constructor. If you are the author of this layer, you can disable autocasting by passing autocast=False to the base Layer constructor.\n",
      "\n"
     ]
    },
    {
     "name": "stdout",
     "output_type": "stream",
     "text": [
      "Model: \"sequential\"\n",
      "_________________________________________________________________\n",
      "Layer (type)                 Output Shape              Param #   \n",
      "=================================================================\n",
      "keras_layer (KerasLayer)     (None, 1056)              4269716   \n",
      "_________________________________________________________________\n",
      "dense (Dense)                (None, 2)                 2114      \n",
      "=================================================================\n",
      "Total params: 4,271,830\n",
      "Trainable params: 2,114\n",
      "Non-trainable params: 4,269,716\n",
      "_________________________________________________________________\n",
      "Train on 100 samples\n",
      "Epoch 1/10\n",
      "100/100 [==============================] - 31s 314ms/sample - loss: 0.7403 - acc: 0.0000e+00\n",
      "Epoch 2/10\n",
      "100/100 [==============================] - 8s 77ms/sample - loss: 0.6997 - acc: 0.7500\n",
      "Epoch 3/10\n",
      "100/100 [==============================] - 7s 73ms/sample - loss: 0.7418 - acc: 0.7500\n",
      "Epoch 4/10\n",
      "100/100 [==============================] - 6s 61ms/sample - loss: 0.7147 - acc: 1.0000\n",
      "Epoch 5/10\n",
      "100/100 [==============================] - 8s 76ms/sample - loss: 0.6942 - acc: 0.5000\n",
      "Epoch 6/10\n",
      "100/100 [==============================] - 7s 68ms/sample - loss: 0.6897 - acc: 0.2500\n",
      "Epoch 7/10\n",
      "100/100 [==============================] - 6s 59ms/sample - loss: 0.6869 - acc: 0.2500\n",
      "Epoch 8/10\n",
      "100/100 [==============================] - 7s 66ms/sample - loss: 0.6852 - acc: 1.0000\n",
      "Epoch 9/10\n",
      "100/100 [==============================] - 7s 75ms/sample - loss: 0.6828 - acc: 0.2500\n",
      "Epoch 10/10\n",
      "100/100 [==============================] - 6s 64ms/sample - loss: 0.6838 - acc: 0.5000\n",
      "Normalized confusion matrix\n"
     ]
    },
    {
     "data": {
      "image/png": "[encoded data removed]",
      "text/plain": [
       "<Figure size 432x288 with 2 Axes>"
      ]
     },
     "metadata": {
      "needs_background": "light"
     },
     "output_type": "display_data"
    }
   ],
   "source": [
    "train_model.transfer_train(X_train, y_train, X_test, y_test)\n"
   ]
  },
  {
   "cell_type": "code",
   "execution_count": null,
   "metadata": {},
   "outputs": [],
   "source": []
  }
 ],
 "metadata": {
  "kernelspec": {
   "display_name": "Python 3",
   "language": "python",
   "name": "python3"
  },
  "language_info": {
   "codemirror_mode": {
    "name": "ipython",
    "version": 3
   },
   "file_extension": ".py",
   "mimetype": "text/x-python",
   "name": "python",
   "nbconvert_exporter": "python",
   "pygments_lexer": "ipython3",
   "version": "3.7.1"
  }
 },
 "nbformat": 4,
 "nbformat_minor": 2
}
